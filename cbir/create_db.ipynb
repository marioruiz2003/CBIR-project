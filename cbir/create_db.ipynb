{
 "cells": [
  {
   "cell_type": "code",
   "execution_count": 15,
   "metadata": {},
   "outputs": [],
   "source": [
    "\n",
    "import os\n",
    "import pandas as pd"
   ]
  },
  {
   "cell_type": "code",
   "execution_count": 16,
   "metadata": {},
   "outputs": [],
   "source": [
    "training_df = pd.DataFrame()\n",
    "\n",
    "training_path = \"archive\\Training Data\"\n",
    "i=0\n",
    "for folder in os.listdir(training_path):\n",
    "    folder_path = os.path.join(training_path, folder)\n",
    "    for img in os.listdir(folder_path)[:200]:\n",
    "        img_path = os.path.join(folder_path, img)\n",
    "        temp_df = pd.DataFrame({'index': [i],\"path\": [img_path]})\n",
    "        # Usar pd.concat para agregar el DataFrame temporal a training_df\n",
    "        training_df = pd.concat([training_df, temp_df], ignore_index=True)\n",
    "        i+=1"
   ]
  },
  {
   "cell_type": "code",
   "execution_count": 18,
   "metadata": {},
   "outputs": [],
   "source": [
    "training_df.to_csv(\"database/db.csv\", index=False)"
   ]
  }
 ],
 "metadata": {
  "kernelspec": {
   "display_name": "Python 3",
   "language": "python",
   "name": "python3"
  },
  "language_info": {
   "codemirror_mode": {
    "name": "ipython",
    "version": 3
   },
   "file_extension": ".py",
   "mimetype": "text/x-python",
   "name": "python",
   "nbconvert_exporter": "python",
   "pygments_lexer": "ipython3",
   "version": "3.11.7"
  }
 },
 "nbformat": 4,
 "nbformat_minor": 2
}
