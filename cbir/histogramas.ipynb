{
 "cells": [
  {
   "cell_type": "code",
   "execution_count": 1,
   "metadata": {},
   "outputs": [],
   "source": [
    "import pandas as pd\n",
    "import cv2\n",
    "import os\n",
    "import numpy as np\n",
    "import faiss"
   ]
  },
  {
   "cell_type": "markdown",
   "metadata": {},
   "source": [
    "Resize and normalize training"
   ]
  },
  {
   "cell_type": "code",
   "execution_count": 2,
   "metadata": {},
   "outputs": [],
   "source": [
    "import warnings\n",
    "warnings.simplefilter(\"ignore\")"
   ]
  },
  {
   "cell_type": "code",
   "execution_count": 3,
   "metadata": {},
   "outputs": [],
   "source": [
    "training_df = pd.DataFrame()\n",
    "\n",
    "training_path = \"archive\\Training Data\"\n",
    "\n",
    "for folder in os.listdir(training_path):\n",
    "    folder_path = os.path.join(training_path, folder)\n",
    "    for img in os.listdir(folder_path)[:200]:\n",
    "        img_path = os.path.join(folder_path, img)\n",
    "        temp_df = pd.DataFrame({  # Usar lista para que sea una entrada válida\n",
    "        \"Path\": [img_path],\n",
    "        \"Class\": [folder]\n",
    "        })\n",
    "    \n",
    "        # Usar pd.concat para agregar el DataFrame temporal a training_df\n",
    "        training_df = pd.concat([training_df, temp_df], ignore_index=True)"
   ]
  },
  {
   "cell_type": "markdown",
   "metadata": {},
   "source": [
    "### HISTOGRAMAS "
   ]
  },
  {
   "cell_type": "code",
   "execution_count": 4,
   "metadata": {},
   "outputs": [],
   "source": [
    "paths_db = pd.read_csv(\"database\\db.csv\", index_col=0)\n",
    "paths = paths_db[\"path\"].values.tolist()"
   ]
  },
  {
   "cell_type": "code",
   "execution_count": 5,
   "metadata": {},
   "outputs": [],
   "source": [
    "histograms = []\n",
    "dimension = 256\n",
    "for path in paths:\n",
    "    img = cv2.imread(path)\n",
    "    img = cv2.cvtColor(img, cv2.COLOR_BGR2GRAY)\n",
    "    histograms.append(cv2.calcHist([img], [0], None, [dimension], [0, 256]).squeeze())"
   ]
  },
  {
   "cell_type": "markdown",
   "metadata": {},
   "source": [
    "HISTOGRAMAS (Aplicamos np.array y squeeze para cambiar el formato de [[0], [0], ...]) a [0, 0, ...]"
   ]
  },
  {
   "cell_type": "code",
   "execution_count": 6,
   "metadata": {},
   "outputs": [],
   "source": [
    "index = faiss.IndexFlatL2(dimension)\n",
    "\n",
    "vectores = np.array(histograms)\n",
    "\n",
    "faiss.normalize_L2(vectores)\n",
    "\n",
    "index.add(vectores)\n",
    "\n",
    "# Guardar el índice en la carpeta database\n",
    "faiss.write_index(index, \"database\\histograms.index\")"
   ]
  },
  {
   "cell_type": "markdown",
   "metadata": {},
   "source": [
    "Por si acaso"
   ]
  },
  {
   "cell_type": "code",
   "execution_count": 7,
   "metadata": {},
   "outputs": [
    {
     "name": "stdout",
     "output_type": "stream",
     "text": [
      "(1, 256)\n",
      "Indices of nearest neighbors: [[395 705 601  80 712]]\n",
      "Distances to nearest neighbors: [[1555.7057 1555.8376 1557.54   1558.0826 1558.4724]]\n"
     ]
    }
   ],
   "source": [
    "test_img_path = \"archive\\Testing Data\\Coast\\Coast-Test (1).jpeg\"\n",
    "img_test = cv2.imread(test_img_path)\n",
    "img_test_gray = cv2.cvtColor(img_test, cv2.COLOR_BGR2GRAY)\n",
    "\n",
    "test_hist = np.array(cv2.calcHist(img_test_gray, \n",
    "                                    channels=[0], \n",
    "                                    mask=None, \n",
    "                                    histSize=[256], \n",
    "                                    ranges=[0, 256])).squeeze().reshape(1, 256)\n",
    "\n",
    "print(test_hist.shape)\n",
    "\n",
    "distances, indices = index.search(test_hist, k=5)  # search for 5 nearest neighbors\n",
    "\n",
    "print(\"Indices of nearest neighbors:\", indices)\n",
    "print(\"Distances to nearest neighbors:\", distances)"
   ]
  }
 ],
 "metadata": {
  "kernelspec": {
   "display_name": "Python 3",
   "language": "python",
   "name": "python3"
  },
  "language_info": {
   "codemirror_mode": {
    "name": "ipython",
    "version": 3
   },
   "file_extension": ".py",
   "mimetype": "text/x-python",
   "name": "python",
   "nbconvert_exporter": "python",
   "pygments_lexer": "ipython3",
   "version": "3.11.7"
  }
 },
 "nbformat": 4,
 "nbformat_minor": 2
}
