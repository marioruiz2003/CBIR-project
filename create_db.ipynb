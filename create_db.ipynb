{
 "cells": [
  {
   "cell_type": "code",
   "execution_count": 1,
   "metadata": {},
   "outputs": [],
   "source": [
    "import os\n",
    "import pandas as pd"
   ]
  },
  {
   "cell_type": "code",
   "execution_count": 1,
   "metadata": {},
   "outputs": [],
   "source": [
    "import os\n",
    "import pandas as pd\n",
    "\n",
    "training_df = pd.DataFrame()\n",
    "\n",
    "training_path = \"images\\Training Data\"  # Ajustado a formato estándar para rutas\n",
    "\n",
    "for folder in os.listdir(training_path):\n",
    "    folder_path = os.path.join(training_path, folder)\n",
    "    for i, img in enumerate(os.listdir(folder_path)):\n",
    "        img_path = os.path.join(folder_path, img)\n",
    "        relative_img_path = img_path.replace(\"images\\\\\", \"\", 1)\n",
    "        # Crear el DataFrame temporal directamente con el índice de enumerate\n",
    "        temp_df = pd.DataFrame({'index': [i], \"image\": [relative_img_path]})\n",
    "        # Concatenar al DataFrame principal\n",
    "        training_df = pd.concat([training_df, temp_df], ignore_index=True)"
   ]
  },
  {
   "cell_type": "code",
   "execution_count": 2,
   "metadata": {},
   "outputs": [],
   "source": [
    "training_df.to_csv(\"database/db.csv\", index=False)"
   ]
  }
 ],
 "metadata": {
  "kernelspec": {
   "display_name": "Python 3",
   "language": "python",
   "name": "python3"
  },
  "language_info": {
   "codemirror_mode": {
    "name": "ipython",
    "version": 3
   },
   "file_extension": ".py",
   "mimetype": "text/x-python",
   "name": "python",
   "nbconvert_exporter": "python",
   "pygments_lexer": "ipython3",
   "version": "3.9.6"
  }
 },
 "nbformat": 4,
 "nbformat_minor": 2
}
