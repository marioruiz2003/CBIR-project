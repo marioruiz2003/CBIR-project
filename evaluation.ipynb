{
 "cells": [
  {
   "cell_type": "code",
   "execution_count": 7,
   "metadata": {},
   "outputs": [],
   "source": [
    "import numpy as np\n",
    "import faiss\n",
    "from functions import *\n",
    "import pandas as pd"
   ]
  },
  {
   "cell_type": "code",
   "execution_count": 8,
   "metadata": {},
   "outputs": [],
   "source": [
    "color_histograms_index = faiss.read_index(\"database/color_histograms.index\") \n",
    "texture_histograms_index = faiss.read_index(\"database/histograms_texture.index\")\n",
    "hog_index = faiss.read_index(\"database/hog.index\")\n",
    "cnn_index = faiss.read_index(\"database/cnn.index\")\n",
    "embeddings_index = faiss.read_index(\"database/embeddings.index\")"
   ]
  },
  {
   "cell_type": "code",
   "execution_count": 11,
   "metadata": {},
   "outputs": [],
   "source": [
    "def precision_at_k(query_index, k, index, ground_truth):\n",
    "    _, I = index.search(np.array([query_index]), k)\n",
    "    return len(set(I[0]) & ground_truth) / k"
   ]
  },
  {
   "cell_type": "code",
   "execution_count": 10,
   "metadata": {},
   "outputs": [],
   "source": [
    "paths_db = pd.read_csv(\"database/db.csv\", index_col=0)\n",
    "paths = paths_db['image'].values.tolist()\n",
    "paths = [\"images\\\\\" + path for path in paths]"
   ]
  },
  {
   "cell_type": "code",
   "execution_count": null,
   "metadata": {},
   "outputs": [],
   "source": [
    "def precision_evaluation(index, k):\n",
    "    precision = 0\n",
    "    for i in range(len(paths)):\n",
    "        precision += precision_at_k(i, k, index, [i])\n",
    "    return precision / len(paths)"
   ]
  }
 ],
 "metadata": {
  "kernelspec": {
   "display_name": "Python 3",
   "language": "python",
   "name": "python3"
  },
  "language_info": {
   "codemirror_mode": {
    "name": "ipython",
    "version": 3
   },
   "file_extension": ".py",
   "mimetype": "text/x-python",
   "name": "python",
   "nbconvert_exporter": "python",
   "pygments_lexer": "ipython3",
   "version": "3.9.6"
  }
 },
 "nbformat": 4,
 "nbformat_minor": 2
}
