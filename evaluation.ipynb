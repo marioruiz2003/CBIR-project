{
 "cells": [
  {
   "cell_type": "code",
   "execution_count": null,
   "metadata": {},
   "outputs": [],
   "source": [
    "import numpy as np\n",
    "import faiss\n",
    "from functions import create_color_histogram, create_vit_embedding, get_glcm_features, extract_hog_features, extract_cnn_features\n",
    "import pandas as pd\n",
    "import cv2\n",
    "import os"
   ]
  },
  {
   "cell_type": "markdown",
   "metadata": {},
   "source": [
    "Cargamos los índices"
   ]
  },
  {
   "cell_type": "code",
   "execution_count": 2,
   "metadata": {},
   "outputs": [],
   "source": [
    "color_histograms_index = faiss.read_index(\"database/color_histograms.index\") \n",
    "texture_histograms_index = faiss.read_index(\"database/texture_histograms.index\")\n",
    "hog_index = faiss.read_index(\"database/hog.index\")\n",
    "cnn_index = faiss.read_index(\"database/cnn.index\")\n",
    "embeddings_index = faiss.read_index(\"database/vit.index\")"
   ]
  },
  {
   "cell_type": "markdown",
   "metadata": {},
   "source": [
    "Definimos la función de evaluación"
   ]
  },
  {
   "cell_type": "code",
   "execution_count": 3,
   "metadata": {},
   "outputs": [],
   "source": [
    "def precision_at_k(query, k, index, ground_truth):\n",
    "    faiss.normalize_L2(query)\n",
    "    _, I = index.search(query, k)\n",
    "    return len(set(I[0]) & ground_truth) / k"
   ]
  },
  {
   "cell_type": "markdown",
   "metadata": {},
   "source": [
    "Cargamos la base de datos de test"
   ]
  },
  {
   "cell_type": "code",
   "execution_count": 4,
   "metadata": {},
   "outputs": [],
   "source": [
    "test_db = pd.read_csv(\"database/db_test.csv\", index_col=0)"
   ]
  },
  {
   "cell_type": "markdown",
   "metadata": {},
   "source": [
    "Definimos ground_truth_dic (son las etiquetas que servirán para evaluar el sistema)"
   ]
  },
  {
   "cell_type": "code",
   "execution_count": 5,
   "metadata": {},
   "outputs": [],
   "source": [
    "ground_truth_dic = {\"Coast\": set(range(100)), \n",
    "                    \"Desert\": set(range(100, 200)), \n",
    "                    \"Forest\": set(range(200, 300)), \n",
    "                    \"Glacier\": set(range(300, 400)), \n",
    "                    \"Mountain\": set(range(400, 500))}"
   ]
  },
  {
   "cell_type": "markdown",
   "metadata": {},
   "source": [
    "Definimos la function que evaluará cada método en cada clase"
   ]
  },
  {
   "cell_type": "code",
   "execution_count": 6,
   "metadata": {},
   "outputs": [],
   "source": [
    "def evaluate_precision_at_k(func, index, test_db, k):\n",
    "    precisions_by_class = {label: [] for label in ground_truth_dic.keys()}\n",
    "    for test_image, label in test_db[['image', 'label']].values:\n",
    "        path = \"images/\" + test_image\n",
    "        img = cv2.imread(path)\n",
    "        img_rgb = cv2.cvtColor(img, cv2.COLOR_BGR2RGB)\n",
    "        query = func(img_rgb).reshape(1, -1)\n",
    "        ground_truth = ground_truth_dic[label]\n",
    "        precisions_by_class[label].append(precision_at_k(query, k, index, ground_truth))\n",
    "    return precisions_by_class"
   ]
  },
  {
   "cell_type": "markdown",
   "metadata": {},
   "source": [
    "Para evitar kernel crashes..."
   ]
  },
  {
   "cell_type": "code",
   "execution_count": 7,
   "metadata": {},
   "outputs": [],
   "source": [
    "# Evitar conflicto de OpenMP\n",
    "os.environ[\"KMP_DUPLICATE_LIB_OK\"] = \"TRUE\"\n",
    "os.environ[\"CUDA_VISIBLE_DEVICES\"] = \"-1\"  # Desactiva GPU en TensorFlow"
   ]
  },
  {
   "cell_type": "markdown",
   "metadata": {},
   "source": [
    "Evaluamos cada método en cada clase usando la precision@k"
   ]
  },
  {
   "cell_type": "code",
   "execution_count": 8,
   "metadata": {},
   "outputs": [
    {
     "name": "stdout",
     "output_type": "stream",
     "text": [
      "1/1 [==============================] - 1s 706ms/step\n",
      "1/1 [==============================] - 0s 177ms/step\n",
      "1/1 [==============================] - 0s 210ms/step\n",
      "1/1 [==============================] - 0s 195ms/step\n",
      "1/1 [==============================] - 0s 190ms/step\n",
      "1/1 [==============================] - 0s 195ms/step\n",
      "1/1 [==============================] - 0s 203ms/step\n",
      "1/1 [==============================] - 0s 205ms/step\n",
      "1/1 [==============================] - 0s 203ms/step\n",
      "1/1 [==============================] - 0s 207ms/step\n",
      "1/1 [==============================] - 0s 198ms/step\n",
      "1/1 [==============================] - 0s 195ms/step\n",
      "1/1 [==============================] - 0s 162ms/step\n",
      "1/1 [==============================] - 0s 181ms/step\n",
      "1/1 [==============================] - 0s 195ms/step\n",
      "1/1 [==============================] - 0s 247ms/step\n",
      "1/1 [==============================] - 0s 188ms/step\n",
      "1/1 [==============================] - 0s 191ms/step\n",
      "1/1 [==============================] - 0s 201ms/step\n",
      "1/1 [==============================] - 0s 209ms/step\n",
      "1/1 [==============================] - 0s 204ms/step\n",
      "1/1 [==============================] - 0s 270ms/step\n",
      "1/1 [==============================] - 0s 207ms/step\n",
      "1/1 [==============================] - 0s 215ms/step\n",
      "1/1 [==============================] - 0s 224ms/step\n",
      "1/1 [==============================] - 0s 253ms/step\n",
      "1/1 [==============================] - 0s 193ms/step\n",
      "1/1 [==============================] - 0s 220ms/step\n",
      "1/1 [==============================] - 0s 254ms/step\n",
      "1/1 [==============================] - 0s 220ms/step\n",
      "1/1 [==============================] - 0s 178ms/step\n",
      "1/1 [==============================] - 0s 182ms/step\n",
      "1/1 [==============================] - 0s 185ms/step\n",
      "1/1 [==============================] - 0s 192ms/step\n",
      "1/1 [==============================] - 0s 266ms/step\n",
      "1/1 [==============================] - 0s 190ms/step\n",
      "1/1 [==============================] - 0s 185ms/step\n",
      "1/1 [==============================] - 0s 179ms/step\n",
      "1/1 [==============================] - 0s 174ms/step\n",
      "1/1 [==============================] - 0s 181ms/step\n",
      "1/1 [==============================] - 0s 176ms/step\n",
      "1/1 [==============================] - 0s 172ms/step\n",
      "1/1 [==============================] - 0s 169ms/step\n",
      "1/1 [==============================] - 0s 168ms/step\n",
      "1/1 [==============================] - 0s 180ms/step\n",
      "1/1 [==============================] - 0s 193ms/step\n",
      "1/1 [==============================] - 0s 189ms/step\n",
      "1/1 [==============================] - 0s 249ms/step\n",
      "1/1 [==============================] - 0s 180ms/step\n",
      "1/1 [==============================] - 0s 176ms/step\n"
     ]
    }
   ],
   "source": [
    "methods = [\"Color Histogram\", \"Texture Histogram\", \"HOG\", \"CNN\", \"VIT\"]\n",
    "funcs = [create_color_histogram, get_glcm_features, extract_hog_features, extract_cnn_features, create_vit_embedding]\n",
    "indexes = [color_histograms_index, texture_histograms_index, hog_index, cnn_index, embeddings_index]\n",
    "results = {}\n",
    "\n",
    "for i in range(5):\n",
    "    method = methods[i]\n",
    "    func = funcs[i]\n",
    "    index = indexes[i]\n",
    "    precision_k = evaluate_precision_at_k(func, index, test_db, 5)\n",
    "    results[method] = precision_k"
   ]
  },
  {
   "cell_type": "markdown",
   "metadata": {},
   "source": [
    "Organizamos y vemos resultados"
   ]
  },
  {
   "cell_type": "code",
   "execution_count": 9,
   "metadata": {},
   "outputs": [
    {
     "name": "stderr",
     "output_type": "stream",
     "text": [
      "C:\\Users\\javip\\AppData\\Local\\Temp\\ipykernel_20332\\3635353071.py:5: FutureWarning: Setting an item of incompatible dtype is deprecated and will raise an error in a future version of pandas. Value '' has dtype incompatible with float64, please explicitly cast to a compatible dtype first.\n",
      "  df.loc['MEAN', 'MEAN'] = \"\"\n"
     ]
    },
    {
     "data": {
      "text/html": [
       "<div>\n",
       "<style scoped>\n",
       "    .dataframe tbody tr th:only-of-type {\n",
       "        vertical-align: middle;\n",
       "    }\n",
       "\n",
       "    .dataframe tbody tr th {\n",
       "        vertical-align: top;\n",
       "    }\n",
       "\n",
       "    .dataframe thead th {\n",
       "        text-align: right;\n",
       "    }\n",
       "</style>\n",
       "<table border=\"1\" class=\"dataframe\">\n",
       "  <thead>\n",
       "    <tr style=\"text-align: right;\">\n",
       "      <th></th>\n",
       "      <th>Color Histogram</th>\n",
       "      <th>Texture Histogram</th>\n",
       "      <th>HOG</th>\n",
       "      <th>CNN</th>\n",
       "      <th>VIT</th>\n",
       "      <th>MEAN</th>\n",
       "    </tr>\n",
       "  </thead>\n",
       "  <tbody>\n",
       "    <tr>\n",
       "      <th>Coast</th>\n",
       "      <td>0.340</td>\n",
       "      <td>0.320</td>\n",
       "      <td>0.140</td>\n",
       "      <td>0.460</td>\n",
       "      <td>0.940</td>\n",
       "      <td>0.44</td>\n",
       "    </tr>\n",
       "    <tr>\n",
       "      <th>Desert</th>\n",
       "      <td>0.280</td>\n",
       "      <td>0.280</td>\n",
       "      <td>0.280</td>\n",
       "      <td>0.380</td>\n",
       "      <td>1.000</td>\n",
       "      <td>0.444</td>\n",
       "    </tr>\n",
       "    <tr>\n",
       "      <th>Forest</th>\n",
       "      <td>0.460</td>\n",
       "      <td>0.540</td>\n",
       "      <td>0.840</td>\n",
       "      <td>0.640</td>\n",
       "      <td>0.420</td>\n",
       "      <td>0.58</td>\n",
       "    </tr>\n",
       "    <tr>\n",
       "      <th>Glacier</th>\n",
       "      <td>0.660</td>\n",
       "      <td>0.380</td>\n",
       "      <td>0.000</td>\n",
       "      <td>0.300</td>\n",
       "      <td>0.980</td>\n",
       "      <td>0.464</td>\n",
       "    </tr>\n",
       "    <tr>\n",
       "      <th>Mountain</th>\n",
       "      <td>0.240</td>\n",
       "      <td>0.200</td>\n",
       "      <td>0.120</td>\n",
       "      <td>0.300</td>\n",
       "      <td>0.840</td>\n",
       "      <td>0.34</td>\n",
       "    </tr>\n",
       "    <tr>\n",
       "      <th>MEAN</th>\n",
       "      <td>0.396</td>\n",
       "      <td>0.344</td>\n",
       "      <td>0.276</td>\n",
       "      <td>0.416</td>\n",
       "      <td>0.836</td>\n",
       "      <td></td>\n",
       "    </tr>\n",
       "  </tbody>\n",
       "</table>\n",
       "</div>"
      ],
      "text/plain": [
       "          Color Histogram  Texture Histogram    HOG    CNN    VIT   MEAN\n",
       "Coast               0.340              0.320  0.140  0.460  0.940   0.44\n",
       "Desert              0.280              0.280  0.280  0.380  1.000  0.444\n",
       "Forest              0.460              0.540  0.840  0.640  0.420   0.58\n",
       "Glacier             0.660              0.380  0.000  0.300  0.980  0.464\n",
       "Mountain            0.240              0.200  0.120  0.300  0.840   0.34\n",
       "MEAN                0.396              0.344  0.276  0.416  0.836       "
      ]
     },
     "execution_count": 9,
     "metadata": {},
     "output_type": "execute_result"
    }
   ],
   "source": [
    "df = pd.DataFrame(results)\n",
    "df = df.map(np.mean)\n",
    "df.loc['MEAN'] = df.mean()\n",
    "df['MEAN'] = df.mean(axis=1)\n",
    "df.loc['MEAN', 'MEAN'] = \"\"\n",
    "df"
   ]
  }
 ],
 "metadata": {
  "kernelspec": {
   "display_name": "Python 3",
   "language": "python",
   "name": "python3"
  },
  "language_info": {
   "codemirror_mode": {
    "name": "ipython",
    "version": 3
   },
   "file_extension": ".py",
   "mimetype": "text/x-python",
   "name": "python",
   "nbconvert_exporter": "python",
   "pygments_lexer": "ipython3",
   "version": "3.9.6"
  }
 },
 "nbformat": 4,
 "nbformat_minor": 2
}
